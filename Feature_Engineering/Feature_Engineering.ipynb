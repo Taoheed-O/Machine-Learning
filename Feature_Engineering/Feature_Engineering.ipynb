{
 "cells": [
  {
   "cell_type": "code",
   "execution_count": null,
   "id": "8e258f27",
   "metadata": {},
   "outputs": [],
   "source": [
    "# importing necessary libraries\n",
    "import numpy as np\n",
    "import scipy.stats as spstats\n",
    "import matplotlib as mpl\n",
    "import matplotlib.pyplot as plt\n",
    "import pandas as pd\n",
    "from sklearn.preprocessing import PolynomialFeatures\n",
    "from sklearn.preprocessing import LabelEncoder , OneHotEncoder\n",
    "\n",
    "\n",
    "%matplotlib inline\n",
    "# matplotlib\n",
    "mpl.style.reload_library()\n",
    "mpl.style.use('classic')\n",
    "mpl.rcParams['figure.facecolor'] = (1, 1, 1, 0)\n",
    "mpl.rcParams['figure.figsize'] = [6.0, 4.0]\n",
    "mpl.rcParams['figure.dpi'] = 100"
   ]
  },
  {
   "cell_type": "code",
   "execution_count": null,
   "id": "e91545f5",
   "metadata": {},
   "outputs": [],
   "source": [
    "np.linspace(0,0.5,12)"
   ]
  },
  {
   "cell_type": "code",
   "execution_count": null,
   "id": "2f6a7343",
   "metadata": {},
   "outputs": [],
   "source": [
    "# Reading in the dataset\n",
    "poke_df = pd.read_csv(\"pokemon.csv\")\n",
    "poke_df.head()"
   ]
  },
  {
   "cell_type": "code",
   "execution_count": null,
   "id": "f4dc9f06",
   "metadata": {},
   "outputs": [],
   "source": [
    "poke_df[[\"hp\",\"attack\",\"defense\"]].describe()"
   ]
  },
  {
   "cell_type": "code",
   "execution_count": null,
   "id": "acfe2b93",
   "metadata": {},
   "outputs": [],
   "source": [
    "atk_def = poke_df[['attack', 'defense']]"
   ]
  },
  {
   "cell_type": "code",
   "execution_count": null,
   "id": "b986a297",
   "metadata": {},
   "outputs": [],
   "source": [
    "pf = PolynomialFeatures(degree=2, interaction_only=False, include_bias=False)\n",
    "res = pf.fit_transform(atk_def)\n",
    "res"
   ]
  },
  {
   "cell_type": "code",
   "execution_count": null,
   "id": "584644a1",
   "metadata": {},
   "outputs": [],
   "source": [
    "pd.unique(poke_df[\"generation_id\"])"
   ]
  },
  {
   "cell_type": "code",
   "execution_count": null,
   "id": "86a02d17",
   "metadata": {},
   "outputs": [],
   "source": [
    "# gen_le = LabelEncoder()\n",
    "# genre_label = gen_le.fit_transform(vg_df[\"Genre\"])\n",
    "# vg_df[\"Genre_label\"] = genre_label"
   ]
  },
  {
   "cell_type": "code",
   "execution_count": null,
   "id": "eec4351d",
   "metadata": {},
   "outputs": [],
   "source": [
    "gen_ohe = OneHotEncoder()\n",
    "gen_feature_arr = gen_ohe.fit_transform(poke_df[['gen_Label']]).toarray()\n",
    "gen_feature_labels = list(gen_le.classes_)\n",
    "gen_features = pd.DataFrame(gen_feature_arr, columns=gen_feature_labels)\n",
    "# encode legendary status labels using one-hot encoding scheme"
   ]
  },
  {
   "cell_type": "code",
   "execution_count": null,
   "id": "53412c64",
   "metadata": {},
   "outputs": [],
   "source": []
  },
  {
   "cell_type": "code",
   "execution_count": null,
   "id": "5b62712a",
   "metadata": {},
   "outputs": [],
   "source": []
  },
  {
   "cell_type": "code",
   "execution_count": null,
   "id": "7e371b90",
   "metadata": {},
   "outputs": [],
   "source": [
    "vg_df = pd.read_csv(\"vgsales.csv\", encoding=\"utf-8\")\n",
    "vg_df[['Name', 'Platform', 'Year', 'Genre', 'Publisher']].iloc[1:7]"
   ]
  },
  {
   "cell_type": "code",
   "execution_count": null,
   "id": "a12ae8d3",
   "metadata": {},
   "outputs": [],
   "source": [
    "genres = pd.unique(vg_df[\"Genre\"])\n",
    "genres"
   ]
  },
  {
   "cell_type": "code",
   "execution_count": null,
   "id": "e5eb95c0",
   "metadata": {
    "scrolled": true
   },
   "outputs": [],
   "source": [
    "gle = LabelEncoder()\n",
    "gle.fit_transform(vg_df[\"Genre\"])\n",
    "genre_labels = {index: label for index, label in enumerate(gle.classes_)}\n",
    "genre_labels"
   ]
  },
  {
   "cell_type": "code",
   "execution_count": null,
   "id": "59ab5769",
   "metadata": {},
   "outputs": [],
   "source": []
  },
  {
   "cell_type": "code",
   "execution_count": null,
   "id": "1e85ea3e",
   "metadata": {},
   "outputs": [],
   "source": []
  },
  {
   "cell_type": "code",
   "execution_count": null,
   "id": "76f5cf24",
   "metadata": {},
   "outputs": [],
   "source": []
  },
  {
   "cell_type": "code",
   "execution_count": null,
   "id": "631a2e2e",
   "metadata": {},
   "outputs": [],
   "source": [
    "import numpy as np\n",
    "import pandas as pd\n",
    "import re\n",
    "import nltk"
   ]
  },
  {
   "cell_type": "code",
   "execution_count": null,
   "id": "4c70b21b",
   "metadata": {},
   "outputs": [],
   "source": [
    "corpus = ['The sky is blue and beautiful.',\n",
    "             'Love this blue and beautiful sky!',\n",
    "             'The quick brown fox jumps over the lazy dog.',\n",
    "             'The brown fox is quick and the blue dog is lazy!',\n",
    "             'The sky is very blue and the sky is very beautiful today',\n",
    "             'The dog is lazy but the brown fox is quick!']\n",
    "\n",
    "labels = ['weather', 'weather', 'animals', 'animals', 'weather', 'animals']\n",
    "\n",
    "corpus  = np.array(corpus)"
   ]
  },
  {
   "cell_type": "code",
   "execution_count": null,
   "id": "6532ba61",
   "metadata": {},
   "outputs": [],
   "source": [
    "corpus_df = pd.DataFrame({'Document': corpus,\n",
    "                         \"Category\": labels})\n",
    "corpus_df = corpus_df[[\"Document\", \"Category\"]]\n",
    "corpus_df"
   ]
  },
  {
   "cell_type": "code",
   "execution_count": null,
   "id": "e84cfeb6",
   "metadata": {},
   "outputs": [],
   "source": [
    "import nltk\n",
    "nltk.download('stopwords')"
   ]
  },
  {
   "cell_type": "code",
   "execution_count": null,
   "id": "2c0aeeb3",
   "metadata": {},
   "outputs": [],
   "source": [
    "wpt = nltk.WordPunctTokenizer()\n",
    "stop_words = nltk.corpus.stopwords.words(\"english\")\n",
    "def normalize_document(doc):\n",
    "       # lower case and remove special characters\\whitespaces\n",
    "       doc = re.sub(r'[^a-zA-Z0-9\\s]', '', doc, re.I)\n",
    "       doc = doc.lower()\n",
    "       doc = doc.strip()\n",
    "       # tokenize document\n",
    "       tokens = wpt.tokenize(doc)\n",
    "       # filter stopwords out of document\n",
    "       filtered_tokens = [token for token in tokens if token not in stop_words]\n",
    "       # re-create document from filtered tokens\n",
    "       doc = ' '.join(filtered_tokens)\n",
    "       return doc\n",
    "    \n",
    "    \n",
    "normalize_corpus = np.vectorize(normalize_document)\n",
    "norm_corpus = normalize_corpus(corpus)\n",
    "norm_corpus"
   ]
  },
  {
   "cell_type": "code",
   "execution_count": null,
   "id": "163cc4bd",
   "metadata": {},
   "outputs": [],
   "source": [
    "from sklearn.feature_extraction.text import CountVectorizer\n",
    "cv = CountVectorizer(min_df = 0., max_df = 1.)\n",
    "\n",
    "cv_matrix = cv.fit_transform(norm_corpus)\n",
    "cv_matrix = cv_matrix.toarray()\n",
    "cv_matrix"
   ]
  },
  {
   "cell_type": "code",
   "execution_count": null,
   "id": "25d203c4",
   "metadata": {},
   "outputs": [],
   "source": [
    "vocab = cv.get_feature_names()\n",
    "pd.DataFrame(cv_matrix, columns=vocab)"
   ]
  },
  {
   "cell_type": "code",
   "execution_count": null,
   "id": "d2d21ce1",
   "metadata": {},
   "outputs": [],
   "source": []
  },
  {
   "cell_type": "code",
   "execution_count": null,
   "id": "8d733bc5",
   "metadata": {},
   "outputs": [],
   "source": [
    "bv = CountVectorizer(ngram_range=(2,2))\n",
    "bv_matrix = bv.fit_transform(norm_corpus)\n",
    "bv_matrix = bv_matrix.toarray()\n",
    "bv_matrix"
   ]
  },
  {
   "cell_type": "code",
   "execution_count": null,
   "id": "6cd2b40b",
   "metadata": {},
   "outputs": [],
   "source": [
    "vocab = bv.get_feature_names()\n",
    "pd.DataFrame(bv_matrix, columns=vocab)"
   ]
  },
  {
   "cell_type": "code",
   "execution_count": null,
   "id": "905e2a97",
   "metadata": {},
   "outputs": [],
   "source": [
    "from sklearn.feature_extraction.text import TfidfVectorizer\n",
    "tv = TfidfVectorizer()\n",
    "tv_matrix = tv.fit_transform(norm_corpus)\n",
    "tv_matrix = tv_matrix.toarray()\n",
    "vocab = tv.get_feature_names()\n",
    "pd.DataFrame(tv_matrix, columns=vocab)"
   ]
  },
  {
   "cell_type": "code",
   "execution_count": null,
   "id": "a3814edf",
   "metadata": {},
   "outputs": [],
   "source": [
    "from sklearn.metrics.pairwise import cosine_similarity\n",
    "cosine_similarity =  cosine_similarity(tv_matrix)\n",
    "similarity_df = pd.DataFrame(cosine_similarity)\n",
    "similarity_df"
   ]
  },
  {
   "cell_type": "code",
   "execution_count": null,
   "id": "19adea73",
   "metadata": {},
   "outputs": [],
   "source": [
    "from sklearn.cluster import KMeans\n",
    "km = KMeans(n_clusters=2)\n",
    "km.fit_transform(similarity_df)\n",
    "cluster_labels = km.labels_\n",
    "cluster_labels = pd.DataFrame(cluster_labels, columns=['ClusterLabel'])\n",
    "pd.concat([corpus_df, cluster_labels], axis=1)"
   ]
  },
  {
   "cell_type": "code",
   "execution_count": null,
   "id": "70c64e79",
   "metadata": {},
   "outputs": [],
   "source": [
    "from sklearn.decomposition import LatentDirichletAllocation\n",
    "lda =  LatentDirichletAllocation(n_components=2, max_iter=100, random_state=42)\n",
    "dt_matrix = lda.fit_transform(tv_matrix)\n",
    "features = pd.DataFrame(dt_matrix, columns=[\"T1\", \"T2\"])\n",
    "features"
   ]
  },
  {
   "cell_type": "code",
   "execution_count": null,
   "id": "258a94f6",
   "metadata": {},
   "outputs": [],
   "source": [
    "tt_matrix = lda.components_\n",
    "for topic_weights in tt_matrix:\n",
    "    topic = [(token, weight) for token, weight in zip(vocab,topic_weights)]\n",
    "    topic = sorted(topic, key=lambda x: -x[1])\n",
    "    topic = [item for item in topic if item[1] > 0.6]\n",
    "    print(topic)\n",
    "    print()"
   ]
  },
  {
   "cell_type": "code",
   "execution_count": null,
   "id": "b198fe78",
   "metadata": {},
   "outputs": [],
   "source": [
    "from gensim.models import word2vec\n",
    "tokenized_corpus = [wpt.tokenize(document) for document in norm_corpus]\n",
    "\n",
    "feature_size = 10\n",
    "window_context = 10\n",
    "sample = 1e-3\n",
    "min_word_count = 1\n",
    "\n",
    "w2v_model = word2vec.Word2Vec(tokenized_corpus, vector_size=feature_size, window=window_context,\n",
    "                              min_count=min_word_count, sample=sample)\n",
    "w2v_model.wv['sky']"
   ]
  },
  {
   "cell_type": "code",
   "execution_count": null,
   "id": "af919435",
   "metadata": {},
   "outputs": [],
   "source": []
  },
  {
   "cell_type": "code",
   "execution_count": null,
   "id": "c80222c3",
   "metadata": {},
   "outputs": [],
   "source": []
  },
  {
   "cell_type": "code",
   "execution_count": null,
   "id": "c41c6009",
   "metadata": {},
   "outputs": [],
   "source": []
  },
  {
   "cell_type": "code",
   "execution_count": null,
   "id": "78ab2288",
   "metadata": {},
   "outputs": [],
   "source": [
    "import datetime\n",
    "import numpy as np\n",
    "import pandas as pd\n",
    "from dateutil.parser import parser\n",
    "import pytz"
   ]
  },
  {
   "cell_type": "code",
   "execution_count": null,
   "id": "adec02ac",
   "metadata": {},
   "outputs": [],
   "source": [
    "time_stamps = ['2015-03-08 10:30:00.360000+00:00', '2017-07-13 15:45:05.755000-07:00',\n",
    "'2012-01-20 22:30:00.254000+05:30', '2016-12-25 00:30:00.000000+10:00']\n",
    "\n",
    "df = pd.DataFrame(time_stamps, columns=[\"Time\"])\n",
    "df"
   ]
  },
  {
   "cell_type": "code",
   "execution_count": null,
   "id": "c704d83e",
   "metadata": {},
   "outputs": [],
   "source": [
    "ts_objs = np.array([pd.Timestamp(item) for item in np.array(df.Time)])\n",
    "df[\"TS_objs\"] = ts_objs\n",
    "df"
   ]
  },
  {
   "cell_type": "code",
   "execution_count": null,
   "id": "ec93c7e2",
   "metadata": {},
   "outputs": [],
   "source": [
    "df[\"Year\"] = df[\"TS_objs\"].apply(lambda x:x.year)\n",
    "df[\"Month\"] = df[\"TS_objs\"].apply(lambda x:x.month)\n",
    "df[\"Day\"] = df[\"TS_objs\"].apply(lambda x:x.day)\n",
    "df[\"DayOfWeek\"] = df[\"TS_objs\"].apply(lambda x:x.dayofweek)\n",
    "df[\"DayName\"] = df[\"TS_objs\"].apply(lambda x:x.day_name().title())\n",
    "df[\"WeekOfYear\"] = df[\"TS_objs\"].apply(lambda x:x.weekofyear)\n",
    "df[\"Quarter\"] = df[\"TS_objs\"].apply(lambda x:x.quarter)\n",
    "df[\"DayOfYear\"] = df[\"TS_objs\"].apply(lambda x:x.dayofyear)\n",
    "\n",
    "\n",
    "\n",
    "df[\"Hour\"] = df[\"TS_objs\"].apply(lambda x:x.hour)\n",
    "df[\"Minute\"] = df[\"TS_objs\"].apply(lambda x:x.minute)\n",
    "df[\"Seconds\"] = df[\"TS_objs\"].apply(lambda x:x.second)\n",
    "df[\"MUseconds\"] = df[\"TS_objs\"].apply(lambda x:x.microsecond)\n",
    "df[\"UTCoffset\"] = df[\"TS_objs\"].apply(lambda x:x.utcoffset())\n",
    "\n",
    "\n",
    "df"
   ]
  },
  {
   "cell_type": "code",
   "execution_count": null,
   "id": "f334105c",
   "metadata": {},
   "outputs": [],
   "source": [
    "hour_bins = [-1, 5, 11, 16, 21, 23]\n",
    "day_bin = ['Late Night', 'Morning', 'Afternoon', 'Evening', 'Night']\n",
    "df[\"TimeOfDayBin\"] = pd.cut(df[\"Hour\"], bins=hour_bins, labels=day_bin)\n",
    "df"
   ]
  },
  {
   "cell_type": "code",
   "execution_count": null,
   "id": "5527178f",
   "metadata": {},
   "outputs": [],
   "source": [
    "df[\"TZ_info\"] = df[\"TS_objs\"].apply(lambda x:x.tzinfo)\n",
    "df['TimeZones'] = df['TS_objs'].apply(lambda d: list({d.astimezone(tz).tzname()\n",
    "                                                     for tz in map(pytz.timezone,\n",
    "                                                    pytz.all_timezones_set)\n",
    "                                                     if d.astimezone(tz).utcoffset() == d.utcoffset()}))\n",
    "df"
   ]
  },
  {
   "cell_type": "code",
   "execution_count": null,
   "id": "343162ad",
   "metadata": {},
   "outputs": [],
   "source": [
    "df['TimeUTC'] = df['TS_objs'].apply(lambda d: d.tz_convert(pytz.utc))\n",
    "df['Epoch'] = df['TS_objs'].apply(lambda d: d.timestamp())\n",
    "df['GregOrdinal'] = df['TS_objs'].apply(lambda d: d.toordinal())\n",
    "\n",
    "df"
   ]
  },
  {
   "cell_type": "code",
   "execution_count": null,
   "id": "d2e5391c",
   "metadata": {},
   "outputs": [],
   "source": [
    "import datetime\n",
    "curr_ts = datetime.datetime.now(pytz.utc)\n",
    "df['DaysElapsedEpoch'] = (curr_ts.timestamp() - df['Epoch']) / (3600*24)\n",
    "df['DaysElapsedEpoch'] = (curr_ts.toordinal() - df['GregOrdinal'])\n",
    "\n",
    "df"
   ]
  },
  {
   "cell_type": "code",
   "execution_count": null,
   "id": "7e1bb3b5",
   "metadata": {},
   "outputs": [],
   "source": []
  },
  {
   "cell_type": "code",
   "execution_count": null,
   "id": "9eedc155",
   "metadata": {},
   "outputs": [],
   "source": []
  },
  {
   "cell_type": "code",
   "execution_count": null,
   "id": "ac97c454",
   "metadata": {},
   "outputs": [],
   "source": []
  },
  {
   "cell_type": "code",
   "execution_count": null,
   "id": "1e46175c",
   "metadata": {},
   "outputs": [],
   "source": []
  },
  {
   "cell_type": "code",
   "execution_count": null,
   "id": "93f928ca",
   "metadata": {},
   "outputs": [],
   "source": [
    "import skimage\n",
    "import numpy as np\n",
    "import pandas as pd\n",
    "import matplotlib.pyplot as plt\n",
    "from skimage import io\n",
    "%matplotlib inline"
   ]
  },
  {
   "cell_type": "code",
   "execution_count": null,
   "id": "3443245b",
   "metadata": {},
   "outputs": [],
   "source": [
    "c = io.imread('minion.png')\n",
    "d = io.imread('minion_2.png')\n",
    "df = pd.DataFrame(['c', 'd'], columns=['Image'])\n",
    "df"
   ]
  },
  {
   "cell_type": "code",
   "execution_count": null,
   "id": "6305d87b",
   "metadata": {},
   "outputs": [],
   "source": [
    "print(f\"cat image shape:\\n {c.shape}\")\n",
    "print(f\"dog image shape:\\n {d.shape}\")\n",
    "\n",
    "\n",
    "fig = plt.figure(figsize=(5,8))\n",
    "axs_1 = fig.add_subplot(1,2,1)\n",
    "axs_1.imshow(c)\n",
    "axs_2 = fig.add_subplot(1,2,2)\n",
    "axs_2.imshow(d)"
   ]
  },
  {
   "cell_type": "code",
   "execution_count": null,
   "id": "c60d0ddd",
   "metadata": {},
   "outputs": [],
   "source": [
    "c_red = c.copy() # Red Channel\n",
    "c_red[:,:,1] = c_red[:,:,2] = 0 # set G,B pixels = 0\n",
    "c_green = c.copy() # Green Channel\n",
    "c_green[:,:,0] = c_green[:,:,2] = 0 # set R,B pixels = 0\n",
    "c_blue = c.copy() # Blue Channel\n",
    "c_blue[:,:,0] = c_blue[:,:,1] = 0 # set R,G pixels = 0\n",
    "\n",
    "image = np.concatenate((c_red, c_green, c_blue), axis=1)\n",
    "plt.figure(figsize=(10,8))\n",
    "plt.imshow(image)"
   ]
  },
  {
   "cell_type": "code",
   "execution_count": null,
   "id": "7c871d68",
   "metadata": {},
   "outputs": [],
   "source": [
    "from skimage.color import rgb2gray\n",
    "\n",
    "c_gs = rgb2gray(c)\n",
    "d_gs = rgb2gray(d)\n",
    "\n",
    "print(\"Image shape:\\n\", c_gs.shape)\n",
    "print(\"2D Image pixel:\\n\", np.round(c_gs, 2))\n",
    "print(\"flattened image:\\n\",np.round(c_gs.flatten(),2))"
   ]
  },
  {
   "cell_type": "code",
   "execution_count": null,
   "id": "1def0aa1",
   "metadata": {},
   "outputs": [],
   "source": [
    "fig = plt.figure(figsize = (8,4))\n",
    "ax1 = fig.add_subplot(2,2, 1)\n",
    "ax1.imshow(c_gs, cmap=\"gray\")\n",
    "ax2 = fig.add_subplot(2,2, 2)\n",
    "ax2.imshow(d_gs, cmap='gray')\n",
    "ax3 = fig.add_subplot(2,2, 3)\n",
    "c_freq, c_bins, c_patches = ax3.hist(c_gs.flatten(), bins=30)\n",
    "ax4 = fig.add_subplot(2,2, 4)\n",
    "d_freq, d_bins, d_patches = ax4.hist(d_gs.flatten(), bins=30)"
   ]
  },
  {
   "cell_type": "code",
   "execution_count": null,
   "id": "a025eb26",
   "metadata": {},
   "outputs": [],
   "source": []
  },
  {
   "cell_type": "code",
   "execution_count": null,
   "id": "cfff9de0",
   "metadata": {},
   "outputs": [],
   "source": [
    "pd.Timestamp().m"
   ]
  },
  {
   "cell_type": "code",
   "execution_count": null,
   "id": "4136009e",
   "metadata": {},
   "outputs": [],
   "source": []
  },
  {
   "cell_type": "code",
   "execution_count": null,
   "id": "fc332bff",
   "metadata": {},
   "outputs": [],
   "source": []
  },
  {
   "cell_type": "code",
   "execution_count": null,
   "id": "5f5e69cf",
   "metadata": {},
   "outputs": [],
   "source": []
  },
  {
   "cell_type": "code",
   "execution_count": null,
   "id": "861c6706",
   "metadata": {},
   "outputs": [],
   "source": [
    "import seaborn as sns\n",
    "import matplotlib.pyplot as plt\n",
    "import numpy as np\n",
    "import pandas as pd\n"
   ]
  },
  {
   "cell_type": "code",
   "execution_count": null,
   "id": "16cda781",
   "metadata": {},
   "outputs": [],
   "source": [
    "x = np.random.normal(loc=1,scale=2,size=(2,3))\n",
    "x"
   ]
  },
  {
   "cell_type": "code",
   "execution_count": null,
   "id": "e87e2a1a",
   "metadata": {},
   "outputs": [],
   "source": [
    "y = np.random.binomial(n=10, p=0.5, size=(1000))\n",
    "sns.distplot(y,kde=False)\n",
    "y"
   ]
  },
  {
   "cell_type": "code",
   "execution_count": null,
   "id": "b91689cf",
   "metadata": {},
   "outputs": [],
   "source": [
    "sns.distplot(np.random.poisson(lam=2, size=1000))"
   ]
  },
  {
   "cell_type": "code",
   "execution_count": null,
   "id": "f7ea0b1c",
   "metadata": {},
   "outputs": [],
   "source": []
  }
 ],
 "metadata": {
  "kernelspec": {
   "display_name": "Python 3",
   "language": "python",
   "name": "python3"
  },
  "language_info": {
   "codemirror_mode": {
    "name": "ipython",
    "version": 3
   },
   "file_extension": ".py",
   "mimetype": "text/x-python",
   "name": "python",
   "nbconvert_exporter": "python",
   "pygments_lexer": "ipython3",
   "version": "3.8.5"
  }
 },
 "nbformat": 4,
 "nbformat_minor": 5
}
